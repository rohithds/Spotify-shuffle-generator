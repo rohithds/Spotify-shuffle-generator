{
  "nbformat": 4,
  "nbformat_minor": 0,
  "metadata": {
    "colab": {
      "provenance": []
    },
    "kernelspec": {
      "name": "python3",
      "display_name": "Python 3"
    },
    "language_info": {
      "name": "python"
    }
  },
  "cells": [
    {
      "cell_type": "code",
      "execution_count": null,
      "metadata": {
        "colab": {
          "base_uri": "https://localhost:8080/"
        },
        "id": "kHns9RqUi9OU",
        "outputId": "3ed08e8e-b052-437b-f18a-11095f5df7dc"
      },
      "outputs": [
        {
          "output_type": "stream",
          "name": "stdout",
          "text": [
            "Collecting spotipy\n",
            "  Downloading spotipy-2.25.0-py3-none-any.whl.metadata (4.7 kB)\n",
            "Collecting redis>=3.5.3 (from spotipy)\n",
            "  Downloading redis-5.2.1-py3-none-any.whl.metadata (9.1 kB)\n",
            "Requirement already satisfied: requests>=2.25.0 in /usr/local/lib/python3.10/dist-packages (from spotipy) (2.32.3)\n",
            "Requirement already satisfied: urllib3>=1.26.0 in /usr/local/lib/python3.10/dist-packages (from spotipy) (2.3.0)\n",
            "Requirement already satisfied: async-timeout>=4.0.3 in /usr/local/lib/python3.10/dist-packages (from redis>=3.5.3->spotipy) (4.0.3)\n",
            "Requirement already satisfied: charset-normalizer<4,>=2 in /usr/local/lib/python3.10/dist-packages (from requests>=2.25.0->spotipy) (3.4.1)\n",
            "Requirement already satisfied: idna<4,>=2.5 in /usr/local/lib/python3.10/dist-packages (from requests>=2.25.0->spotipy) (3.10)\n",
            "Requirement already satisfied: certifi>=2017.4.17 in /usr/local/lib/python3.10/dist-packages (from requests>=2.25.0->spotipy) (2024.12.14)\n",
            "Downloading spotipy-2.25.0-py3-none-any.whl (30 kB)\n",
            "Downloading redis-5.2.1-py3-none-any.whl (261 kB)\n",
            "\u001b[2K   \u001b[90m━━━━━━━━━━━━━━━━━━━━━━━━━━━━━━━━━━━━━━━━\u001b[0m \u001b[32m261.5/261.5 kB\u001b[0m \u001b[31m6.5 MB/s\u001b[0m eta \u001b[36m0:00:00\u001b[0m\n",
            "\u001b[?25hInstalling collected packages: redis, spotipy\n",
            "Successfully installed redis-5.2.1 spotipy-2.25.0\n"
          ]
        }
      ],
      "source": [
        "# Install the Spotipy library\n",
        "!pip install spotipy\n",
        "\n",
        "import spotipy\n",
        "from spotipy.oauth2 import SpotifyOAuth\n",
        "import random\n",
        "\n",
        "# Spotify API credentials\n",
        "client_id = \"your_spotify_client_id\"\n",
        "client_secret = \"your_spotify_client_secret\"\n",
        "redirect_uri = \"http://localhost:8888/callback\"\n",
        "\n",
        "# Set up Spotify OAuth for authentication\n",
        "sp = spotipy.Spotify(auth_manager=SpotifyOAuth(\n",
        "    client_id=client_id,\n",
        "    client_secret=client_secret,\n",
        "    redirect_uri=redirect_uri,\n",
        "    scope=\"user-library-read playlist-read-private playlist-modify-public\"\n",
        "))\n",
        "\n",
        "def get_saved_tracks():\n",
        "    \"\"\"Retrieve the user's saved tracks from Spotify.\"\"\"\n",
        "    tracks = []\n",
        "    results = sp.current_user_saved_tracks()\n",
        "\n",
        "    while results:\n",
        "        for idx, item in enumerate(results['items']):\n",
        "            track = item['track']\n",
        "            tracks.append(f\"{track['name']} by {track['artists'][0]['name']}\")\n",
        "\n",
        "        # Check if there are more tracks\n",
        "        if results['next']:\n",
        "            results = sp.next(results)\n",
        "        else:\n",
        "            break\n",
        "\n",
        "    return tracks\n",
        "\n",
        "def generate_shuffle_playlist():\n",
        "    \"\"\"Generate a shuffled playlist from the user's saved tracks.\"\"\"\n",
        "    tracks = get_saved_tracks()\n",
        "    if not tracks:\n",
        "        print(\"No tracks found in your library.\")\n",
        "        return\n",
        "\n",
        "    # Shuffle the list of tracks\n",
        "    random.shuffle(tracks)\n",
        "\n",
        "    print(\"Your shuffled playlist:\")\n",
        "    for i, track in enumerate(tracks[:20]):  # Show only top 20 shuffled tracks\n",
        "        print(f\"{i + 1}. {track}\")\n",
        "\n",
        "# Call the function to generate and display shuffled playlist\n",
        "generate_shuffle_playlist()\n"
      ]
    }
  ]
}